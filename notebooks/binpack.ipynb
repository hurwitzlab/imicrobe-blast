{
 "cells": [
  {
   "cell_type": "code",
   "execution_count": null,
   "metadata": {},
   "outputs": [],
   "source": [
    "import glob\n",
    "import os.path\n",
    "import random\n",
    "import pprint\n",
    "\n",
    "import numpy as np"
   ]
  },
  {
   "cell_type": "code",
   "execution_count": null,
   "metadata": {},
   "outputs": [],
   "source": [
    "file_list = [(round(10000 * abs(random.normalvariate(0, 1))), ''.join(random.choices('abcdefg', k=6))) for _ in range(1000)]"
   ]
  },
  {
   "cell_type": "code",
   "execution_count": null,
   "metadata": {},
   "outputs": [],
   "source": [
    "file_list[:10]"
   ]
  },
  {
   "cell_type": "code",
   "execution_count": null,
   "metadata": {},
   "outputs": [],
   "source": [
    "sorted_file_list = sorted(file_list, reverse=True)"
   ]
  },
  {
   "cell_type": "code",
   "execution_count": null,
   "metadata": {},
   "outputs": [],
   "source": [
    "sorted_file_list[:10]"
   ]
  },
  {
   "cell_type": "code",
   "execution_count": null,
   "metadata": {},
   "outputs": [],
   "source": [
    "sorted_file_list[-10:]"
   ]
  },
  {
   "cell_type": "code",
   "execution_count": null,
   "metadata": {},
   "outputs": [],
   "source": [
    "bin_count = 24"
   ]
  },
  {
   "cell_type": "code",
   "execution_count": null,
   "metadata": {},
   "outputs": [],
   "source": [
    "bin_list = [ dict((('bin_weight', 0.0), ('bin_contents', []))) for _ in range(bin_count) ]"
   ]
  },
  {
   "cell_type": "code",
   "execution_count": null,
   "metadata": {},
   "outputs": [],
   "source": [
    "bin_list"
   ]
  },
  {
   "cell_type": "code",
   "execution_count": null,
   "metadata": {},
   "outputs": [],
   "source": [
    "target_bin_weight = np.round(np.sum([weight for weight, name in sorted_file_list]) / 24)\n",
    "target_bin_weight"
   ]
  },
  {
   "cell_type": "code",
   "execution_count": null,
   "metadata": {},
   "outputs": [],
   "source": [
    "for (weight, name) in sorted_file_list:\n",
    "    bin_list[0]['bin_contents'].append((weight, name))\n",
    "    bin_list[0]['bin_weight'] += weight\n",
    "    bin_list.sort(key=lambda bin: bin['bin_weight'])"
   ]
  },
  {
   "cell_type": "code",
   "execution_count": null,
   "metadata": {},
   "outputs": [],
   "source": [
    "bin_weights = [bin['bin_weight'] for bin in bin_list]"
   ]
  },
  {
   "cell_type": "code",
   "execution_count": null,
   "metadata": {},
   "outputs": [],
   "source": [
    "bin_weights"
   ]
  },
  {
   "cell_type": "code",
   "execution_count": null,
   "metadata": {},
   "outputs": [],
   "source": [
    "def pack_file_lists(file_list, bin_count):\n",
    "    \"\"\"\n",
    "    Given 'file_list' of (file size, file path) tuples return 'bin_count' lists of file paths such\n",
    "    that the files in each list have approximately the same total number of bytes.\n",
    "    \n",
    "    Arguments:\n",
    "    file_list sequence of tuples (file size, file path)\n",
    "    bin_count number of bins into which files will be packed\n",
    "    \"\"\"\n",
    "    target_bin_weight = np.round(np.sum([weight for weight, name in file_list]) / bin_count)\n",
    "    print('the target bin weight is {:8.1f}'.format(target_bin_weight))\n",
    "    \n",
    "    bin_list = [ dict((('bin_weight', 0.0), ('bin_contents', []))) for _ in range(bin_count) ]\n",
    "    \n",
    "    for (weight, name) in sorted(file_list, reverse=True):\n",
    "        bin_list[0]['bin_contents'].append((weight, name))\n",
    "        bin_list[0]['bin_weight'] += weight\n",
    "        bin_list.sort(key=lambda bin: bin['bin_weight'])     \n",
    "    \n",
    "    print('minimum bin weight: {:8.1f}\\nmaximum bin weight: {:8.1f}'.format(\n",
    "        bin_list[0]['bin_weight'], bin_list[-1]['bin_weight']))\n",
    "    \n",
    "    return [bin['bin_contents'] for bin in bin_list]"
   ]
  },
  {
   "cell_type": "code",
   "execution_count": null,
   "metadata": {},
   "outputs": [],
   "source": [
    "packed_file_lists = pack_file_lists(file_list=file_list, bin_count=24)"
   ]
  },
  {
   "cell_type": "code",
   "execution_count": null,
   "metadata": {},
   "outputs": [],
   "source": [
    "def make_packed_file_lists(file_glob, file_list_count):\n",
    "    \"\"\"\n",
    "    for example,\n",
    "        file_glob = '/home/jklynch/host/project/**/*.py'\n",
    "    \"\"\"\n",
    "    file_paths = glob.glob(file_glob, recursive=True)\n",
    "    print('found {} file paths with \"{}\"'.format(len(file_paths), file_glob))\n",
    "    \n",
    "    file_size_path_list = [(os.path.getsize(fp), fp) for fp in file_paths]\n",
    "    print('first 5 files:\\n{}'.format(pprint.pformat(file_size_path_list[:5])))\n",
    "    \n",
    "    packed_file_lists = pack_file_lists(file_size_path_list, bin_count=file_list_count)\n",
    "    \n",
    "    return packed_file_lists"
   ]
  },
  {
   "cell_type": "code",
   "execution_count": null,
   "metadata": {},
   "outputs": [],
   "source": [
    "packed_python_file_lists = make_packed_file_lists(\n",
    "    file_glob='/home/jklynch/host/project/**/*.py',\n",
    "    file_list_count=5)"
   ]
  },
  {
   "cell_type": "code",
   "execution_count": null,
   "metadata": {},
   "outputs": [],
   "source": [
    "for packed_python_file_list in packed_python_file_lists:\n",
    "    for i, (weight, fp) in enumerate(packed_python_file_list):\n",
    "        print('{}: {}'.format(i, fp))"
   ]
  },
  {
   "cell_type": "code",
   "execution_count": null,
   "metadata": {},
   "outputs": [],
   "source": []
  }
 ],
 "metadata": {
  "language_info": {
   "name": "python",
   "pygments_lexer": "ipython3"
  }
 },
 "nbformat": 4,
 "nbformat_minor": 2
}
