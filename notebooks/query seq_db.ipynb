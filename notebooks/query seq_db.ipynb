{
 "cells": [
  {
   "cell_type": "code",
   "execution_count": null,
   "metadata": {},
   "outputs": [],
   "source": [
    "import imicrobe.blast.blastdb.build_seq_db as seq_db\n",
    "\n",
    "from orminator import session_manager_from_db_uri"
   ]
  },
  {
   "cell_type": "code",
   "execution_count": null,
   "metadata": {},
   "outputs": [],
   "source": [
    "foo_db_uri = 'sqlite:////home/jklynch/host/project/imicrobe/apps/imicrobe-blast/ohana_little_seq_db.sqlite'"
   ]
  },
  {
   "cell_type": "code",
   "execution_count": null,
   "metadata": {},
   "outputs": [],
   "source": [
    "with session_manager_from_db_uri(db_uri=foo_db_uri) as db_session:\n",
    "    for f in db_session.query(seq_db.FastaFile).limit(2):\n",
    "        print(f.id)\n",
    "        print(f.file_path)\n",
    "        print(db_session.query(seq_db.FastaSequence).filter(seq_db.FastaSequence.fasta_file_id == f.id).count())\n",
    "        for s in db_session.query(seq_db.FastaSequence.seq_length).filter(seq_db.FastaSequence.fasta_file_id == f.id).limit(5):\n",
    "            print(s)\n",
    "    #for f, s in db_session.query(seq_db.FastaFile).join(seq_db.FastaSequence).all():\n",
    "    #    print(f.file_path)\n",
    "    "
   ]
  },
  {
   "cell_type": "code",
   "execution_count": null,
   "metadata": {},
   "outputs": [],
   "source": []
  }
 ],
 "metadata": {
  "language_info": {
   "name": "python",
   "pygments_lexer": "ipython3"
  }
 },
 "nbformat": 4,
 "nbformat_minor": 2
}
